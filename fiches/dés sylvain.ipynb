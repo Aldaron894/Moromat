{
 "cells": [
  {
   "cell_type": "markdown",
   "metadata": {},
   "source": [
    "# C'est quoi le mieux entre jeter deux dés deux fois et choisir la paire dont la somme est la plus faible et jeter 3 dés et choisir les deux plus petits dés et les sommer ?\n",
    "\n",
    "## Jeter deux fois deux dés : \n",
    "\n",
    "On peut déjà associer chaque dé à une variable aléatoire : $D_1, D_2, D_3, D_4 \\sim U\\{1,2,3,4,5,6\\}$. On a donc $P(D_i=k)=\\frac{1}{6} ; \\forall i \\in \\{1,2,3,4\\}, \\forall k \\in \\{1, 2, 3, 4, 5, 6\\}$\n",
    "\n",
    "On a ensuite construire deux variables aléatoires corréspondant à chaque somme de paire de dés : $S_1 = D_1 + D_2 ; S_2 = D_3 + D_4$. Et on peut maintenant trouver \"à la voix\" leurs probas correspondantes.\n",
    "\n",
    "On remarque que comme les jetés de $D_1$ et $D_2$ sont indépendents on a que $P(D_1=k \\cup D_2 = l) = P(D_1 = k)*P(D_2=l)=(\\frac{1}{6})^2= \\frac{1}{36}$\n",
    "\n",
    "On va le faire ici pour $P(S_1=6)$ mais le raisonnement est identique pour les autres : Si $S_1 = 6, alors on a plusieurs configurations possibles : $(D_1=1 \\cup D_2 = 5), (D_1=2 \\cup D_2 = 4), (D_1=3 \\cup D_2 = 3), (D_1=4 \\cup D_2 = 2), (D_1=1 5cup D_2 = 1)$. On a alors 5 cas possibles et $P(S_1 = 6) = \\frac{5}{36}$\n",
    "\n",
    "En raisonnant de la même façon on a donc $P(S_1=2)=P(S_1=12)=\\frac{1}{36} ; P(S_1=3)=P(S_1=11)=\\frac{2}{36} ; P(S_1=4)=P(S_1=10)=\\frac{3}{36} ; P(S_1=5)=P(S_1=9)=\\frac{4}{36} ; P(S_1=6)=P(S_1=8)=\\frac{5}{36} ; P(S_1=7) = \\frac{6}{36}$ et on a exactement les mêmes probas pour $S_2$ la somme des deux autres dés.\n",
    "\n",
    "Maintenant on veut trouver le minimum de $S_1$ et $S_2$ dont on connait les lois. On peut mainteant se demander la probabilité que le minimum des deux sommes soit égal à $k$ et raisonner à partir de ça : \n",
    "\n",
    "Si le minimum est égal à 8 cela veut dire que la somme 1 et égale à 8 et que l'autre est plus grande que 8 ou inversement. On a donc $S_1=8$ et $S_2 = 8, 9, 10, 11, 12$ ou inversemment (ATTENTION : si on fait ça on compte deux fois le cas $S_1=8$ et $S_2=8$). D'où $P(min(S_1, S_2)=8)=P(S_1=8)*P(S_2 \\ge 8) + P(S_1=8)*P(S_2 \\ge 8) - P(S_1=8)P(S_2=8)= \\frac{5}{36} * (\\frac{5}{36} + \\frac{4}{36} + \\frac{3}{36} + \\frac{2}{36} + \\frac{1}{36}) + \\frac{5}{36} * (\\frac{5}{36} + \\frac{4}{36} + \\frac{3}{36} + \\frac{2}{36} + \\frac{1}{36}) - \\frac{5}{36} * \\frac{5}{36} = \\frac{125}{1296}$ \n",
    "\n",
    "\n",
    "En faisant pareil pour les autres on a : $P(min(S_1, S_2)=2)= 71/1296 ; P(min(S_1, S_2)=3)= 17/162 ; P(min(S_1, S_2)=4)= 7/48 ; P(min(S_1, S_2)=5)= 14/81 ; P(min(S_1, S_2)=6)= 235/1296 ; P(min(S_1, S_2)=7)= 1/6 ; P(min(S_1, S_2)=8)= 125/1296 ; P(min(S_1, S_2)=9)= 4/81 ; P(min(S_1, S_2)=10)= 1/48 ; P(min(S_1, S_2)=11)= 1/162 ; P(min(S_1, S_2)=12)= 1/1296$\n",
    "\n",
    "On peut maintenant faire la sommes des valeurs possibles fois leurs probas pour trouver une moyenne de 5.628086419753086 (c.f le code ci dessous).\n",
    "\n",
    "\n",
    "\n"
   ]
  },
  {
   "cell_type": "code",
   "execution_count": 2,
   "metadata": {
    "vscode": {
     "languageId": "sage"
    }
   },
   "outputs": [
    {
     "name": "stdout",
     "output_type": "stream",
     "text": [
      "{valeurs de la somme : proba associée}\n",
      " {2: 1/36, 12: 1/36, 3: 1/18, 11: 1/18, 4: 1/12, 10: 1/12, 5: 1/9, 9: 1/9, 6: 5/36, 8: 5/36, 7: 1/6}\n",
      "1\n",
      "{valeurs du min : proba associée}\n",
      " {2: 71/1296, 3: 17/162, 4: 7/48, 5: 14/81, 6: 235/1296, 7: 1/6, 8: 125/1296, 9: 4/81, 10: 1/48, 11: 1/162, 12: 1/1296}\n",
      "5.628086419753086\n"
     ]
    }
   ],
   "source": [
    "import numpy as np\n",
    "import matplotlib.pyplot as plt\n",
    "import random\n",
    "\n",
    "#à chaque valeurs de k, on associe la probabilité que la somme des dés soit égale à k\n",
    "proba_somme={}\n",
    "for k in range(2,7):\n",
    "    proba_somme[k]=(k-1)/36\n",
    "    proba_somme[14-k]=(k-1)/36\n",
    "proba_somme[7]=1/6\n",
    "print(\"{valeurs de la somme : proba associée}\\n\", proba_somme)\n",
    "\n",
    "s=0\n",
    "for key in proba_somme:\n",
    "    s+=proba_somme[key]\n",
    "print(s)\n",
    "\n",
    "#à chaque valeurs de k, on associe la probabilité que le minimum des somme des dés soit égal à k\n",
    "proba_min={}\n",
    "for k in range(2, 13):\n",
    "    s=0\n",
    "    for i in range(k, 13):\n",
    "        s+=proba_somme[i]\n",
    "    proba_min[k]=2*proba_somme[k]*s - proba_somme[k]**2\n",
    "print(\"{valeurs du min : proba associée}\\n\", proba_min)\n",
    "\n",
    "#on calcule la moyenne du minimum\n",
    "Somme_Moyenne=0\n",
    "for key in proba_min:\n",
    "    Somme_Moyenne+=key*proba_min[key]\n",
    "print(float(Somme_Moyenne))\n",
    "\n",
    "\n",
    "\n",
    "\n",
    "\n"
   ]
  },
  {
   "cell_type": "markdown",
   "metadata": {},
   "source": [
    "On peut vérifier ça en simulant des dés : "
   ]
  },
  {
   "cell_type": "code",
   "execution_count": 5,
   "metadata": {
    "vscode": {
     "languageId": "sage"
    }
   },
   "outputs": [
    {
     "name": "stdout",
     "output_type": "stream",
     "text": [
      "en simulant 10000 lancer on trouve une moyenne de 5.6254 pour le minimum des sommes des dés 1 et 2 et des dés 3 et 4\n"
     ]
    }
   ],
   "source": [
    "n=10000 #nombre de lancers\n",
    "D_1=vector([random.randint(1,6) for i in range(n)])#on simule les jétés du dé 1\n",
    "D_2=vector([random.randint(1,6) for i in range(n)])#on simule les jétés du dé 2\n",
    "D_3=vector([random.randint(1,6) for i in range(n)])#on simule les jétés du dé 3\n",
    "D_4=vector([random.randint(1,6) for i in range(n)])#on simule les jétés du dé 4\n",
    "\n",
    "S_1=D_1+D_2#on simule la somme des dés 1 et 2\n",
    "S_2=D_3+D_4#on simule la somme des dés 3 et 4\n",
    "M_1=np.minimum(S_1,S_2)#on simule le minimum des sommes des dés 1 et 2 et des dés 3 et 4\n",
    "moyenne=np.mean(M_1)#on calcule la moyenne du minimum\n",
    "\n",
    "print(f\"en simulant {n} lancer on trouve une moyenne de {moyenne} pour le minimum des sommes des dés 1 et 2 et des dés 3 et 4\")"
   ]
  },
  {
   "cell_type": "markdown",
   "metadata": {},
   "source": [
    "## Jeter 3 dés et ne garder que les deux plus faibles :\n",
    "\n"
   ]
  }
 ],
 "metadata": {
  "kernelspec": {
   "display_name": "SageMath 10.4",
   "language": "sage",
   "name": "sagemath"
  },
  "language_info": {
   "codemirror_mode": {
    "name": "ipython",
    "version": 3
   },
   "file_extension": ".py",
   "mimetype": "text/x-python",
   "name": "python",
   "nbconvert_exporter": "python",
   "pygments_lexer": "ipython3",
   "version": "3.9.21"
  }
 },
 "nbformat": 4,
 "nbformat_minor": 2
}
